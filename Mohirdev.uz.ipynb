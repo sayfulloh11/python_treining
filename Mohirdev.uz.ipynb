{
 "cells": [
  {
   "cell_type": "code",
   "execution_count": 4,
   "id": "8ed0c817",
   "metadata": {},
   "outputs": [
    {
     "name": "stdout",
     "output_type": "stream",
     "text": [
      "\"Nexia\",\"Tico\",'Damas' ko'rganlar qilar havas\n"
     ]
    }
   ],
   "source": [
    "#cars = \"Nexia\",\"Tico\",\"Damas\"\n",
    "print( \"\\\"Nexia\\\",\\\"Tico\\\",'Damas' ko'rganlar qilar havas\")"
   ]
  },
  {
   "cell_type": "code",
   "execution_count": 8,
   "id": "92e11113",
   "metadata": {},
   "outputs": [
    {
     "name": "stdout",
     "output_type": "stream",
     "text": [
      "5 ning 4-darajasi 625\n"
     ]
    }
   ],
   "source": [
    "# 5 ning darajasini topisg\n",
    "print('5 ning 4-darajasi',5**4)"
   ]
  },
  {
   "cell_type": "code",
   "execution_count": 10,
   "id": "7890e465",
   "metadata": {},
   "outputs": [
    {
     "name": "stdout",
     "output_type": "stream",
     "text": [
      "22 ni 4 ga bolgandagi qoldiq 2\n"
     ]
    }
   ],
   "source": [
    "#22 ni 4 ga bo'lganda\n",
    "print('22 ni 4 ga bolgandagi qoldiq',22%4)"
   ]
  },
  {
   "cell_type": "code",
   "execution_count": 12,
   "id": "406a0095",
   "metadata": {},
   "outputs": [
    {
     "name": "stdout",
     "output_type": "stream",
     "text": [
      "Tomonlari 125ga teng bo'lgan Kvadratning yuzi  15625 ga peremetsi esa 500 ga teng\n"
     ]
    }
   ],
   "source": [
    "#kvadratni yuzi va peremetrini topish\n",
    "print(\"Tomonlari 125ga teng bo'lgan Kvadratning yuzi \",125*125,\"ga peremetsi esa\",125*4,'ga teng')"
   ]
  },
  {
   "cell_type": "code",
   "execution_count": 13,
   "id": "d92ba3e1",
   "metadata": {},
   "outputs": [
    {
     "name": "stdout",
     "output_type": "stream",
     "text": [
      "Diametri 12 ga teng bo'lgan doiraning yuzi 113.04 ga teng\n"
     ]
    }
   ],
   "source": [
    "#4 Diametri 12 ga teng bo'lgan doiraning yuzini toping\n",
    "print('Diametri 12 ga teng bo\\'lgan doiraning yuzi', 3.14*(12/2)**2, 'ga teng')"
   ]
  },
  {
   "cell_type": "code",
   "execution_count": 17,
   "id": "7f4857ba",
   "metadata": {},
   "outputs": [
    {
     "name": "stdout",
     "output_type": "stream",
     "text": [
      "Katetlari 6 va 7 bo'lgan to'g'ri burchakli uchburchakning gipotenuzasi 9.219544457292887\n"
     ]
    }
   ],
   "source": [
    "#5 Katetlari 6 va 7 bo'lgan to'g'ri burchakli uchburchakning gipotenuzasini toping\n",
    "print(\"Katetlari 6 va 7 bo'lgan to'g'ri burchakli uchburchakning gipotenuzasi\", (6**2+7**2)**(1/2))"
   ]
  },
  {
   "cell_type": "code",
   "execution_count": 18,
   "id": "747ae594",
   "metadata": {},
   "outputs": [
    {
     "name": "stdout",
     "output_type": "stream",
     "text": [
      "Hello dunyo\n"
     ]
    }
   ],
   "source": [
    "salom = \"Hello dunyo\"\n",
    "print(salom)"
   ]
  },
  {
   "cell_type": "code",
   "execution_count": 19,
   "id": "731054f9",
   "metadata": {},
   "outputs": [
    {
     "data": {
      "text/plain": [
       "'salom'"
      ]
     },
     "execution_count": 19,
     "metadata": {},
     "output_type": "execute_result"
    }
   ],
   "source": [
    "xabar = \"salom\"\n",
    "xabar"
   ]
  },
  {
   "cell_type": "code",
   "execution_count": 22,
   "id": "2c772380",
   "metadata": {},
   "outputs": [
    {
     "name": "stdout",
     "output_type": "stream",
     "text": [
      "Radiusi 5 ga teng aylananing yuzi= 78.53975\n"
     ]
    }
   ],
   "source": [
    "radius = 5\n",
    "pi = 3.14159\n",
    "aylana_yuzi = pi * radius**2\n",
    "print(\"Radiusi\" , radius, \"ga teng aylananing yuzi=\", aylana_yuzi)"
   ]
  },
  {
   "cell_type": "code",
   "execution_count": 38,
   "id": "2d03f7b5",
   "metadata": {},
   "outputs": [
    {
     "name": "stdout",
     "output_type": "stream",
     "text": [
      "Muallimlar ko'chasi Alisher Navoiy mahallasi Qorasuv tumani Andijon  viloyati\n"
     ]
    }
   ],
   "source": [
    "kocha = \"Muallimlar\"\n",
    "mahalla = \"Alisher Navoiy\"\n",
    "shahar = \"Qorasuv\"\n",
    "viloyat = \"Andijon\"\n",
    "print(kocha+\" ko'chasi\",mahalla+\" mahallasi\",shahar+\" tumani\",viloyat,\" viloyati\")"
   ]
  },
  {
   "cell_type": "code",
   "execution_count": 41,
   "id": "1674a0f7",
   "metadata": {},
   "outputs": [
    {
     "name": "stdout",
     "output_type": "stream",
     "text": [
      "Iltimos ma'lumotlaringizni kirgizing: >>\n",
      " Iltimos ism-sharfingizni kirgizing: Sayfullokh\n",
      "Iltimos tug'ulgan yilingizni kirgizing: 1996\n",
      "Ko'changizni nomini kirgizing: Muallimlar\n",
      "Mahallangizni nomini kirgizing: Alisher NAvoiy\n",
      "Shahringizni nomini kirgizing: Qorasuv\n",
      "viloyatingiz nomini kirgizing: Andijon\n",
      "Ismingiz  Sayfullokh 1996 da tug'ulgansiz\n",
      " Muallimlar ko'chasi\n",
      " Alisher NAvoiy mahallasi\n",
      " Qorasuv shahari\n",
      " Andijon viloyatida Tavallud topgansiz \n"
     ]
    }
   ],
   "source": [
    "print(\"Iltimos ma'lumotlaringizni kirgizing: >>\")\n",
    "ism = input(\" Iltimos ism-sharfingizni kirgizing: \")\n",
    "yil = str(input(\"Iltimos tug'ulgan yilingizni kirgizing: \"))\n",
    "kocha = input(\"Ko'changizni nomini kirgizing: \")\n",
    "mahalla = input(\"Mahallangizni nomini kirgizing: \")\n",
    "shahar = input(\"Shahringizni nomini kirgizing: \")\n",
    "Viloyat = input(\"viloyatingiz nomini kirgizing: \")\n",
    "print(\"Ismingiz \",ism , str(yil) + \" da tug'ulgansiz\\n \" + kocha + \" ko'chasi\\n \" + mahalla + \" mahallasi\\n \" + shahar + \" shahari\\n \" + viloyat + \" viloyatida Tavallud topgansiz \")"
   ]
  },
  {
   "cell_type": "code",
   "execution_count": 47,
   "id": "1e0accd7",
   "metadata": {},
   "outputs": [
    {
     "name": "stdout",
     "output_type": "stream",
     "text": [
      "ISMINGIZ SAYFULLOKH  1996 DA TUG'ULGANSIZ MUALLIMLAR KO'CHASI ALISHER NAVOIY MAHALLASI QORASUV SHAHARI  ANDIJON VILOYATIDA TAVALLUD TOPGANSIZ \n",
      "ismingiz sayfullokh  1996 da tug'ulgansiz muallimlar ko'chasi alisher navoiy mahallasi qorasuv shahari  andijon viloyatida tavallud topgansiz \n",
      "Ismingiz Sayfullokh  1996 Da Tug'Ulgansiz Muallimlar Ko'Chasi Alisher Navoiy Mahallasi Qorasuv Shahari  Andijon Viloyatida Tavallud Topgansiz \n",
      "Ismingiz sayfullokh  1996 da tug'ulgansiz muallimlar ko'chasi alisher navoiy mahallasi qorasuv shahari  andijon viloyatida tavallud topgansiz \n"
     ]
    }
   ],
   "source": [
    "manzil = f\"Ismingiz {ism}  {str(yil)} da tug'ulgansiz {kocha} ko'chasi {mahalla} mahallasi {shahar} shahari  {viloyat} viloyatida Tavallud topgansiz \"\n",
    "print(manzil.upper())\n",
    "print(manzil.lower())\n",
    "print(manzil.title())\n",
    "print(manzil.capitalize())"
   ]
  },
  {
   "cell_type": "code",
   "execution_count": 46,
   "id": "5be15bda",
   "metadata": {},
   "outputs": [
    {
     "ename": "SyntaxError",
     "evalue": "can't assign to function call (<ipython-input-46-e84f2d98b145>, line 1)",
     "output_type": "error",
     "traceback": [
      "\u001b[0;36m  File \u001b[0;32m\"<ipython-input-46-e84f2d98b145>\"\u001b[0;36m, line \u001b[0;32m1\u001b[0m\n\u001b[0;31m    kocha.upper() = \"Muallimlar\"\u001b[0m\n\u001b[0m                                ^\u001b[0m\n\u001b[0;31mSyntaxError\u001b[0m\u001b[0;31m:\u001b[0m can't assign to function call\n"
     ]
    }
   ],
   "source": [
    "print(upper(kocha))  \n",
    "mahalla \n",
    "shahar \n",
    "viloyat \n"
   ]
  },
  {
   "cell_type": "code",
   "execution_count": 64,
   "id": "151f7975",
   "metadata": {},
   "outputs": [
    {
     "name": "stdout",
     "output_type": "stream",
     "text": [
      "Istalgan sonni kiriting45\n",
      "45  ning kvadrati 2025 ga teng, 45  ning kubi 91125 ga teng\n"
     ]
    }
   ],
   "source": [
    "son = input(\"Istalgan sonni kiriting\")\n",
    "print(son, \" ning kvadrati\",int(son)**2,'ga teng,', int(son),' ning kubi',int(son)**3,'ga teng')"
   ]
  },
  {
   "cell_type": "code",
   "execution_count": 70,
   "id": "f49f16c4",
   "metadata": {},
   "outputs": [
    {
     "name": "stdout",
     "output_type": "stream",
     "text": [
      "yoshingizni kirgizing : >>26\n",
      "Siz 1996 da tug'ulgansiz\n"
     ]
    }
   ],
   "source": [
    "yosh = int(input(\"yoshingizni kirgizing : >>\"))\n",
    "yil = 2022 - yosh\n",
    "print(\"Siz\",yil,\"da tug'ulgansiz\")"
   ]
  },
  {
   "cell_type": "code",
   "execution_count": 71,
   "id": "57711758",
   "metadata": {},
   "outputs": [
    {
     "name": "stdout",
     "output_type": "stream",
     "text": [
      "Birinchi sonni kiriting: 32\n",
      "Ikkinchi sonni kiriting: 31\n",
      "32.0+31.0= 63.0\n",
      "32.0-31.0= 1.0\n",
      "32.0x31.0= 992.0\n",
      "32.0/31.0= 1.032258064516129\n"
     ]
    }
   ],
   "source": [
    "# Foydalanuvchidan ikki son kiritshni so'rab, \n",
    "# kiritilgan sonlarning yig'indisi, ayirmasi, \n",
    "# ko'paytmasi va bo'linmasini chiqaruvchi dastur\n",
    "a = float(input(\"Birinchi sonni kiriting: \"))\n",
    "b = float(input(\"Ikkinchi sonni kiriting: \"))\n",
    "print(f\"{a}+{b}=\", a+b)\n",
    "print(f\"{a}-{b}=\", a-b)\n",
    "print(f\"{a}x{b}=\", a*b)\n",
    "print(f\"{a}/{b}=\", a/b)"
   ]
  },
  {
   "cell_type": "code",
   "execution_count": 74,
   "id": "201ad4d5",
   "metadata": {},
   "outputs": [
    {
     "name": "stdout",
     "output_type": "stream",
     "text": [
      "['olma', 'apelsin', 'anjir', 'behi', 'shaftoli']\n"
     ]
    }
   ],
   "source": [
    "mevalar = ['olma','apelsin','anjir','behi','shaftoli']\n",
    "print(mevalar)"
   ]
  },
  {
   "cell_type": "code",
   "execution_count": 81,
   "id": "d6ec1af9",
   "metadata": {},
   "outputs": [
    {
     "name": "stdout",
     "output_type": "stream",
     "text": [
      "['Alisher', 'Rasul', 'Humoun']\n",
      "Alisher qalesan ? bugun choyxona bormi? \n",
      "Humoun choyxonaga boramizmi?\n"
     ]
    }
   ],
   "source": [
    "ismlar = ['Alisher','Rasul','Humoun']\n",
    "print(ismlar)\n",
    "print(ismlar[0],\"qalesan ? bugun choyxona bormi? \")\n",
    "print(ismlar[2],\"choyxonaga boramizmi?\")"
   ]
  },
  {
   "cell_type": "code",
   "execution_count": 169,
   "id": "674c6806",
   "metadata": {},
   "outputs": [
    {
     "name": "stdout",
     "output_type": "stream",
     "text": [
      "['Salim', 'Rasul', 'Hasan', 'Husan', 'Doston']\n"
     ]
    }
   ],
   "source": [
    "dostlar = []\n",
    "\n",
    "dostlar.append(\"Salim\")\n",
    "dostlar.append(\"Rasul\")\n",
    "dostlar.append(\"Hasan\")\n",
    "dostlar.append(\"Husan\")\n",
    "dostlar.append(\"Doston\")\n",
    "print(dostlar)\n",
    "mexmon = dostlar[:]\n",
    "# dostlar.remove(\"Salim\")\n",
    "# dostlar.remove(\"Doston\")\n",
    "# print(dostlar)\n",
    "# dostlar.append(\"Sahxzod\")\n",
    "# dostlar.insert(0,\"Malik\")\n",
    "# dostlar.insert(3,\"Bilol\")\n",
    "# print(dostlar)\n",
    "# mexmonlar = []\n",
    "# mexmonlar.append(dostlar.pop(0))\n",
    "# mexmonlar.append(dostlar.pop(3))\n",
    "# mexmonlar.append(dostlar.pop(-2))\n",
    "#print(\"Mexmonga kelganlar ro'yxati :\", mexmonlar ,' dan tashkil topgan')"
   ]
  },
  {
   "cell_type": "code",
   "execution_count": 146,
   "id": "1becb581",
   "metadata": {},
   "outputs": [
    {
     "data": {
      "text/plain": [
       "[0, 1, 2, 3, 4, 5, 6, 7, 8, 9]"
      ]
     },
     "execution_count": 146,
     "metadata": {},
     "output_type": "execute_result"
    }
   ],
   "source": [
    "sonlar = list(range(0,10))\n",
    "sonlar"
   ]
  },
  {
   "cell_type": "code",
   "execution_count": 147,
   "id": "092a1dc3",
   "metadata": {},
   "outputs": [
    {
     "data": {
      "text/plain": [
       "[21, 22, 23, 24, 25, 26, 27, 28, 29]"
      ]
     },
     "execution_count": 147,
     "metadata": {},
     "output_type": "execute_result"
    }
   ],
   "source": [
    "list(range(21,30))"
   ]
  },
  {
   "cell_type": "code",
   "execution_count": 148,
   "id": "cd4d85de",
   "metadata": {},
   "outputs": [
    {
     "data": {
      "text/plain": [
       "[1, 3, 5, 7, 9, 11, 13, 15, 17, 19]"
      ]
     },
     "execution_count": 148,
     "metadata": {},
     "output_type": "execute_result"
    }
   ],
   "source": [
    "toq_s = list(range(1,20,2))\n",
    "toq_s"
   ]
  },
  {
   "cell_type": "code",
   "execution_count": 149,
   "id": "ce938439",
   "metadata": {},
   "outputs": [
    {
     "data": {
      "text/plain": [
       "[0, 2, 4, 6, 8, 10, 12, 14, 16, 18]"
      ]
     },
     "execution_count": 149,
     "metadata": {},
     "output_type": "execute_result"
    }
   ],
   "source": [
    "juft_s = list(range(0,20,2))\n",
    "juft_s\n"
   ]
  },
  {
   "cell_type": "code",
   "execution_count": 150,
   "id": "d1221420",
   "metadata": {},
   "outputs": [
    {
     "data": {
      "text/plain": [
       "[0, 10, 20, 30, 40, 50, 60, 70, 80, 90, 100]"
      ]
     },
     "execution_count": 150,
     "metadata": {},
     "output_type": "execute_result"
    }
   ],
   "source": [
    "san = list(range(0,101,10))\n",
    "san"
   ]
  },
  {
   "cell_type": "code",
   "execution_count": 151,
   "id": "b433b58d",
   "metadata": {},
   "outputs": [
    {
     "data": {
      "text/plain": [
       "19"
      ]
     },
     "execution_count": 151,
     "metadata": {},
     "output_type": "execute_result"
    }
   ],
   "source": [
    "max(toq_s)"
   ]
  },
  {
   "cell_type": "code",
   "execution_count": 152,
   "id": "1898d65a",
   "metadata": {},
   "outputs": [
    {
     "data": {
      "text/plain": [
       "1200"
      ]
     },
     "execution_count": 152,
     "metadata": {},
     "output_type": "execute_result"
    }
   ],
   "source": [
    "narxlar = [1200,25002,2365,31564,876584]\n",
    "min(narxlar)\n"
   ]
  },
  {
   "cell_type": "code",
   "execution_count": 159,
   "id": "3f195ca7",
   "metadata": {},
   "outputs": [
    {
     "name": "stdout",
     "output_type": "stream",
     "text": [
      "50\n"
     ]
    }
   ],
   "source": [
    "print(san[5])"
   ]
  },
  {
   "cell_type": "code",
   "execution_count": 160,
   "id": "4cd3eb44",
   "metadata": {},
   "outputs": [],
   "source": [
    "raqam = san[:]"
   ]
  },
  {
   "cell_type": "code",
   "execution_count": 161,
   "id": "e005ff48",
   "metadata": {},
   "outputs": [
    {
     "data": {
      "text/plain": [
       "[0, 10, 20, 30, 40, 50, 60, 70, 80, 90, 100]"
      ]
     },
     "execution_count": 161,
     "metadata": {},
     "output_type": "execute_result"
    }
   ],
   "source": [
    "raqam"
   ]
  },
  {
   "cell_type": "code",
   "execution_count": 162,
   "id": "909a4635",
   "metadata": {},
   "outputs": [
    {
     "data": {
      "text/plain": [
       "[0, 10, 20, 30, 40, 50, 60, 70, 80, 90, 100]"
      ]
     },
     "execution_count": 162,
     "metadata": {},
     "output_type": "execute_result"
    }
   ],
   "source": [
    "\n",
    "san"
   ]
  },
  {
   "cell_type": "code",
   "execution_count": 163,
   "id": "64a8cee9",
   "metadata": {},
   "outputs": [
    {
     "data": {
      "text/plain": [
       "[0, 10, 20, 30, 40, 50, 70, 80, 90, 100]"
      ]
     },
     "execution_count": 163,
     "metadata": {},
     "output_type": "execute_result"
    }
   ],
   "source": [
    "raqam.remove(60)\n",
    "raqam"
   ]
  },
  {
   "cell_type": "code",
   "execution_count": 164,
   "id": "6ea90e37",
   "metadata": {},
   "outputs": [
    {
     "data": {
      "text/plain": [
       "[0, 10, 20, 30, 40, 50, 60, 70, 80, 90, 100]"
      ]
     },
     "execution_count": 164,
     "metadata": {},
     "output_type": "execute_result"
    }
   ],
   "source": [
    "san"
   ]
  },
  {
   "cell_type": "code",
   "execution_count": 171,
   "id": "ae5523af",
   "metadata": {},
   "outputs": [
    {
     "name": "stdout",
     "output_type": "stream",
     "text": [
      "Salom Salim\n",
      "Salom Rasul\n",
      "Salom Hasan\n",
      "Salom Husan\n",
      "Salom Doston\n"
     ]
    }
   ],
   "source": [
    "mexmon\n",
    "for mex in mexmon:\n",
    "    print(\"Salom\",mex)"
   ]
  },
  {
   "cell_type": "code",
   "execution_count": null,
   "id": "00d33f21",
   "metadata": {},
   "outputs": [],
   "source": []
  }
 ],
 "metadata": {
  "kernelspec": {
   "display_name": "Python 3",
   "language": "python",
   "name": "python3"
  },
  "language_info": {
   "codemirror_mode": {
    "name": "ipython",
    "version": 3
   },
   "file_extension": ".py",
   "mimetype": "text/x-python",
   "name": "python",
   "nbconvert_exporter": "python",
   "pygments_lexer": "ipython3",
   "version": "3.6.9"
  }
 },
 "nbformat": 4,
 "nbformat_minor": 5
}
